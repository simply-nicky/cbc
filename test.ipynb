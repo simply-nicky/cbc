{
 "cells": [
  {
   "cell_type": "code",
   "execution_count": 7,
   "metadata": {},
   "outputs": [
    {
     "name": "stdout",
     "output_type": "stream",
     "text": [
      "The autoreload extension is already loaded. To reload it, use:\n",
      "  %reload_ext autoreload\n"
     ]
    }
   ],
   "source": [
    "%load_ext autoreload\n",
    "%autoreload 2\n",
    "import cbc, numpy as np, matplotlib.pyplot as plt"
   ]
  },
  {
   "cell_type": "code",
   "execution_count": 8,
   "metadata": {},
   "outputs": [],
   "source": [
    "waist = 4e-6\n",
    "wavelength = 1.5e-7\n",
    "a, b, c = 2e-5, 2.5e-5, 3e-5\n",
    "Nx, Ny, Nz = 20, 20, 21\n",
    "detNx, detNy = 512, 512\n",
    "pix_size = 55e-3 / 4\n",
    "det_dist = 54"
   ]
  },
  {
   "cell_type": "code",
   "execution_count": 9,
   "metadata": {},
   "outputs": [],
   "source": [
    "axis = np.random.rand(3)\n",
    "theta = 2 * np.pi * np.random.random()"
   ]
  },
  {
   "cell_type": "code",
   "execution_count": 10,
   "metadata": {},
   "outputs": [],
   "source": [
    "latargs = cbc.lat_args(a=a, b=b, c=c, Nx=Nx, Ny=Ny, Nz=Nz)\n",
    "koutargs = cbc.kout_args(det_dist=det_dist, detNx=detNx, detNy=detNy, pix_size=pix_size)\n",
    "diff = cbc.diff(lat_args=latargs, kout_args=koutargs, waist=waist, wavelength=wavelength)\n",
    "# diff.move_lat()"
   ]
  },
  {
   "cell_type": "code",
   "execution_count": 11,
   "metadata": {},
   "outputs": [],
   "source": [
    "def Rs(pts, waist=1e-4, wavelength=1.5e-7):\n",
    "    \"\"\"\n",
    "    Return incoming wavevector of gaussian beam for given coordinate (x, y, z).\n",
    "\n",
    "    waist - beam waist radius\n",
    "    wavelength - light wavelength\n",
    "\n",
    "    Return a np.array of three incoming wavevector coordinates.\n",
    "    \"\"\"\n",
    "    k = 2 * np.pi / wavelength\n",
    "    zr = k * waist**2 / 2\n",
    "    xs, ys, zs = pts.T\n",
    "    Rs = zs + zr**2 / zs\n",
    "    return Rs"
   ]
  },
  {
   "cell_type": "code",
   "execution_count": 14,
   "metadata": {},
   "outputs": [
    {
     "data": {
      "image/png": "[encoded data removed]",
      "text/plain": [
       "<Figure size 432x288 with 1 Axes>"
      ]
     },
     "metadata": {
      "needs_background": "light"
     },
     "output_type": "display_data"
    }
   ],
   "source": [
    "%matplotlib inline\n",
    "kins = cbc.uniform(10000).T\n",
    "plt.hist2d(*kins, 20)\n",
    "plt.show()"
   ]
  }
 ],
 "metadata": {
  "kernelspec": {
   "display_name": "Python 3",
   "language": "python",
   "name": "python3"
  },
  "language_info": {
   "codemirror_mode": {
    "name": "ipython",
    "version": 3
   },
   "file_extension": ".py",
   "mimetype": "text/x-python",
   "name": "python",
   "nbconvert_exporter": "python",
   "pygments_lexer": "ipython3",
   "version": "3.7.1"
  }
 },
 "nbformat": 4,
 "nbformat_minor": 2
}
